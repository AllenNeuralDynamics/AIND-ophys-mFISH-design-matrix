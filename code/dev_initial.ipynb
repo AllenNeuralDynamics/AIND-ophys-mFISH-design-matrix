{
 "cells": [
  {
   "cell_type": "markdown",
   "metadata": {},
   "source": [
    "# Purpose:\n",
    "- Assume data is searched and loaded (develop this part later)\n",
    "    - Use data from \"Saffron\" (721291)\n",
    "- Run design matrix, per session\n",
    "- Test attaching ophys data as well (consider memory limit)"
   ]
  },
  {
   "cell_type": "code",
   "execution_count": 258,
   "metadata": {},
   "outputs": [
    {
     "name": "stdout",
     "output_type": "stream",
     "text": [
      "The autoreload extension is already loaded. To reload it, use:\n",
      "  %reload_ext autoreload\n"
     ]
    }
   ],
   "source": [
    "from DesignMatrix import DesignMatrix\n",
    "from comb.behavior_ophys_dataset import BehaviorOphysDataset, BehaviorMultiplaneOphysDataset\n",
    "from comb.behavior_session_dataset import BehaviorSessionDataset\n",
    "import os\n",
    "import glob\n",
    "from pathlib import Path\n",
    "import numpy as np\n",
    "import pandas as pd\n",
    "import xarray as xr\n",
    "\n",
    "# notebook dev\n",
    "%load_ext autoreload\n",
    "%autoreload 2\n",
    "%matplotlib inline\n",
    "import capsule_utils\n",
    "import load_data\n",
    "import design_matrix_tools as dmtools\n",
    "import kernel_tools as ktools"
   ]
  },
  {
   "cell_type": "code",
   "execution_count": 256,
   "metadata": {},
   "outputs": [
    {
     "name": "stdout",
     "output_type": "stream",
     "text": [
      "File rig.json not found in /root/capsule/data/multiplane-ophys_721291_2024-05-16_08-57-00\n"
     ]
    },
    {
     "name": "stderr",
     "output_type": "stream",
     "text": [
      "/comb/src/comb/processing/stimulus/stimulus_processing.py:802: FutureWarning: Downcasting object dtype arrays on .fillna, .ffill, .bfill is deprecated and will change in a future version. Call result.infer_objects(copy=False) instead. To opt-in to the future behavior, set `pd.set_option('future.no_silent_downcasting', True)`\n",
      "  is_change = is_change.fillna(False)\n"
     ]
    },
    {
     "name": "stdout",
     "output_type": "stream",
     "text": [
      "File rig.json not found in /root/capsule/data/multiplane-ophys_721291_2024-05-16_08-57-00\n"
     ]
    },
    {
     "name": "stderr",
     "output_type": "stream",
     "text": [
      "/comb/src/comb/processing/stimulus/stimulus_processing.py:802: FutureWarning: Downcasting object dtype arrays on .fillna, .ffill, .bfill is deprecated and will change in a future version. Call result.infer_objects(copy=False) instead. To opt-in to the future behavior, set `pd.set_option('future.no_silent_downcasting', True)`\n",
      "  is_change = is_change.fillna(False)\n"
     ]
    },
    {
     "name": "stdout",
     "output_type": "stream",
     "text": [
      "File rig.json not found in /root/capsule/data/multiplane-ophys_721291_2024-05-16_08-57-00\n"
     ]
    },
    {
     "name": "stderr",
     "output_type": "stream",
     "text": [
      "/comb/src/comb/processing/stimulus/stimulus_processing.py:802: FutureWarning: Downcasting object dtype arrays on .fillna, .ffill, .bfill is deprecated and will change in a future version. Call result.infer_objects(copy=False) instead. To opt-in to the future behavior, set `pd.set_option('future.no_silent_downcasting', True)`\n",
      "  is_change = is_change.fillna(False)\n"
     ]
    },
    {
     "name": "stdout",
     "output_type": "stream",
     "text": [
      "File rig.json not found in /root/capsule/data/multiplane-ophys_721291_2024-05-16_08-57-00\n"
     ]
    },
    {
     "name": "stderr",
     "output_type": "stream",
     "text": [
      "/comb/src/comb/processing/stimulus/stimulus_processing.py:802: FutureWarning: Downcasting object dtype arrays on .fillna, .ffill, .bfill is deprecated and will change in a future version. Call result.infer_objects(copy=False) instead. To opt-in to the future behavior, set `pd.set_option('future.no_silent_downcasting', True)`\n",
      "  is_change = is_change.fillna(False)\n"
     ]
    },
    {
     "name": "stdout",
     "output_type": "stream",
     "text": [
      "File rig.json not found in /root/capsule/data/multiplane-ophys_721291_2024-05-16_08-57-00\n"
     ]
    },
    {
     "name": "stderr",
     "output_type": "stream",
     "text": [
      "/comb/src/comb/processing/stimulus/stimulus_processing.py:802: FutureWarning: Downcasting object dtype arrays on .fillna, .ffill, .bfill is deprecated and will change in a future version. Call result.infer_objects(copy=False) instead. To opt-in to the future behavior, set `pd.set_option('future.no_silent_downcasting', True)`\n",
      "  is_change = is_change.fillna(False)\n"
     ]
    },
    {
     "name": "stdout",
     "output_type": "stream",
     "text": [
      "File rig.json not found in /root/capsule/data/multiplane-ophys_721291_2024-05-16_08-57-00\n"
     ]
    },
    {
     "name": "stderr",
     "output_type": "stream",
     "text": [
      "/comb/src/comb/processing/stimulus/stimulus_processing.py:802: FutureWarning: Downcasting object dtype arrays on .fillna, .ffill, .bfill is deprecated and will change in a future version. Call result.infer_objects(copy=False) instead. To opt-in to the future behavior, set `pd.set_option('future.no_silent_downcasting', True)`\n",
      "  is_change = is_change.fillna(False)\n"
     ]
    },
    {
     "name": "stdout",
     "output_type": "stream",
     "text": [
      "File rig.json not found in /root/capsule/data/multiplane-ophys_721291_2024-05-16_08-57-00\n"
     ]
    },
    {
     "name": "stderr",
     "output_type": "stream",
     "text": [
      "/comb/src/comb/processing/stimulus/stimulus_processing.py:802: FutureWarning: Downcasting object dtype arrays on .fillna, .ffill, .bfill is deprecated and will change in a future version. Call result.infer_objects(copy=False) instead. To opt-in to the future behavior, set `pd.set_option('future.no_silent_downcasting', True)`\n",
      "  is_change = is_change.fillna(False)\n"
     ]
    },
    {
     "name": "stdout",
     "output_type": "stream",
     "text": [
      "File rig.json not found in /root/capsule/data/multiplane-ophys_721291_2024-05-16_08-57-00\n"
     ]
    },
    {
     "name": "stderr",
     "output_type": "stream",
     "text": [
      "/comb/src/comb/processing/stimulus/stimulus_processing.py:802: FutureWarning: Downcasting object dtype arrays on .fillna, .ffill, .bfill is deprecated and will change in a future version. Call result.infer_objects(copy=False) instead. To opt-in to the future behavior, set `pd.set_option('future.no_silent_downcasting', True)`\n",
      "  is_change = is_change.fillna(False)\n"
     ]
    }
   ],
   "source": [
    "session_name = 'multiplane-ophys_721291_2024-05-16_08-57-00'\n",
    "\n",
    "data_dir = Path('/root/capsule/data/')\n",
    "raw_path = data_dir / session_name\n",
    "processed_path = list(data_dir.glob(f'{session_name}_processed*'))[0]\n",
    "\n",
    "opids = []\n",
    "for plane_folder in processed_path.glob(\"*\"):\n",
    "    if plane_folder.is_dir() and not plane_folder.stem.startswith(\"nextflow\"):\n",
    "        opid = plane_folder.stem\n",
    "        opids.append(opid)\n",
    "\n",
    "bod_list = []\n",
    "for opid in opids:\n",
    "    bod = load_data.load_plane_data(session_name, opid=opid)\n",
    "    bod = capsule_utils.add_trials_to_bod(bod)\n",
    "    bod_list.append(bod)\n",
    "bod = bod_list[0]"
   ]
  },
  {
   "cell_type": "code",
   "execution_count": 247,
   "metadata": {},
   "outputs": [],
   "source": [
    "def define_kernels():\n",
    "    kernels = {\n",
    "        'intercept':    {'feature':'intercept',   'type':'continuous',    'length':0,     'offset':0,     'num_weights':None, 'dropout':True, 'text': 'constant value'},\n",
    "        'hits':         {'feature':'hit',         'type':'discrete',      'length':1.5,   'offset':0,    'num_weights':None, 'dropout':True, 'text': 'lick to image change'},\n",
    "        'misses':       {'feature':'miss',        'type':'discrete',      'length':1.5,   'offset':0,    'num_weights':None, 'dropout':True, 'text': 'no lick to image change'},\n",
    "        'passive_change':   {'feature':'passive_change','type':'discrete','length':1.5,   'offset':0,    'num_weights':None, 'dropout':True, 'text': 'passive session image change'},\n",
    "        #'hits':         {'feature':'hit',         'type':'discrete',      'length':.75,   'offset':0,    'num_weights':None, 'dropout':True, 'text': 'lick to image change'},\n",
    "        #'misses':       {'feature':'miss',        'type':'discrete',      'length':.75,   'offset':0,    'num_weights':None, 'dropout':True, 'text': 'no lick to image change'},\n",
    "        #'passive_change':   {'feature':'passive_change','type':'discrete','length':.75,   'offset':0,    'num_weights':None, 'dropout':True, 'text': 'passive session image change'},\n",
    "        #'post-hits':    {'feature':'hit',         'type':'discrete',      'length':1.5,   'offset':0.75,    'num_weights':None, 'dropout':True, 'text': 'lick to image change'},\n",
    "        #'post-misses':  {'feature':'miss',        'type':'discrete',      'length':1.5,   'offset':0.75,    'num_weights':None, 'dropout':True, 'text': 'no lick to image change'},\n",
    "        #'post-passive_change': {'feature':'passive_change','type':'discrete','length':1.5,   'offset':0.75,    'num_weights':None, 'dropout':True, 'text': 'passive session image change'},\n",
    "        'omissions':        {'feature':'omissions',   'type':'discrete',  'length':1.5,      'offset':0,     'num_weights':None, 'dropout':True, 'text': 'image was omitted'},\n",
    "        #'omissions':        {'feature':'omissions',   'type':'discrete',  'length':0.75,      'offset':0,     'num_weights':None, 'dropout':True, 'text': 'image was omitted'},\n",
    "        #'post-omissions':   {'feature':'omissions',   'type':'discrete',  'length':2.25,   'offset':0.75,  'num_weights':None, 'dropout':True, 'text': 'images after omission'},\n",
    "        'each-image':   {'feature':'each-image',  'type':'discrete',      'length':0.75,  'offset':0,     'num_weights':None, 'dropout':True, 'text': 'image presentation'},\n",
    "        'running':      {'feature':'running',     'type':'continuous',    'length':2,     'offset':-1,    'num_weights':None, 'dropout':True, 'text': 'normalized running speed'},\n",
    "        # 'pupil':        {'feature':'pupil',       'type':'continuous',    'length':2,     'offset':-1,    'num_weights':None, 'dropout':True, 'text': 'Z-scored pupil diameter'},\n",
    "        'licks':        {'feature':'licks',       'type':'discrete',      'length':2,     'offset':-1,    'num_weights':None, 'dropout':True, 'text': 'mouse lick'},\n",
    "        #'false_alarms':     {'feature':'false_alarm',   'type':'discrete','length':5.5,   'offset':-1,    'num_weights':None, 'dropout':True, 'text': 'lick on catch trials'},\n",
    "        #'correct_rejects':  {'feature':'correct_reject','type':'discrete','length':5.5,   'offset':-1,    'num_weights':None, 'dropout':True, 'text': 'no lick on catch trials'},\n",
    "        #'time':         {'feature':'time',        'type':'continuous',    'length':0,     'offset':0,    'num_weights':None,  'dropout':True, 'text': 'linear ramp from 0 to 1'},\n",
    "        #'beh_model':    {'feature':'beh_model',   'type':'continuous',    'length':.5,    'offset':-.25, 'num_weights':None,  'dropout':True, 'text': 'behavioral model weights'},\n",
    "        #'lick_bouts':   {'feature':'lick_bouts',  'type':'discrete',      'length':4,     'offset':-2,   'num_weights':None,  'dropout':True, 'text': 'lick bout'},\n",
    "        #'lick_model':   {'feature':'lick_model',  'type':'continuous',    'length':2,     'offset':-1,   'num_weights':None,  'dropout':True, 'text': 'lick probability from video'},\n",
    "        #'groom_model':  {'feature':'groom_model', 'type':'continuous',    'length':2,     'offset':-1,   'num_weights':None,  'dropout':True, 'text': 'groom probability from video'},\n",
    "    }\n",
    "    ## add face motion energy PCs\n",
    "    # for PC in range(5):\n",
    "    #     kernels['face_motion_PC_{}'.format(PC)] = {'feature':'face_motion_PC_{}'.format(PC), 'type':'continuous', 'length':2, 'offset':-1, 'dropout':True, 'text':'PCA from face motion videos'}\n",
    "    \n",
    "    return kernels"
   ]
  },
  {
   "cell_type": "code",
   "execution_count": 260,
   "metadata": {},
   "outputs": [
    {
     "name": "stdout",
     "output_type": "stream",
     "text": [
      "Using filtered events traces\n",
      "Interpolating neural signal onto stimulus aligned timestamps\n",
      "Using filtered events traces\n",
      "Interpolating neural signal onto stimulus aligned timestamps\n",
      "Using filtered events traces\n",
      "Interpolating neural signal onto stimulus aligned timestamps\n",
      "Using filtered events traces\n",
      "Interpolating neural signal onto stimulus aligned timestamps\n",
      "Using filtered events traces\n",
      "Interpolating neural signal onto stimulus aligned timestamps\n",
      "Using filtered events traces\n",
      "Interpolating neural signal onto stimulus aligned timestamps\n",
      "Using filtered events traces\n",
      "Interpolating neural signal onto stimulus aligned timestamps\n",
      "Using filtered events traces\n",
      "Interpolating neural signal onto stimulus aligned timestamps\n"
     ]
    }
   ],
   "source": [
    "run_params = {'data_type': 'filtered_events'}\n",
    "kernels = define_kernels()\n",
    "\n",
    "\n",
    "response_list = []\n",
    "run_params_list = []\n",
    "for bod in bod_list:\n",
    "    run_params = ktools.process_kernels(kernels, run_params, bod)\n",
    "    response, run_params = load_data.extract_and_annotate_ophys_plane(bod, run_params)\n",
    "    response_list.append(response)\n",
    "    run_params_list.append(run_params)"
   ]
  },
  {
   "cell_type": "code",
   "execution_count": 261,
   "metadata": {},
   "outputs": [
    {
     "name": "stdout",
     "output_type": "stream",
     "text": [
      "    Adding kernel: intercept\n",
      "    Adding kernel: hits\n",
      "    Adding kernel: misses\n",
      "    Adding kernel: passive_change\n",
      "\tError encountered while adding kernel for passive_change. Attemping to continue without this kernel.\n",
      "\tPassive Change kernel cant be added to active sessions\n",
      "    Adding kernel: omissions\n",
      "    Adding kernel: running\n",
      "                 : Mean Centering\n",
      "                 : Standardized to unit variance\n",
      "    Adding kernel: licks\n",
      "    Adding kernel: im000\n",
      "    Adding kernel: im031\n",
      "    Adding kernel: im035\n",
      "    Adding kernel: im045\n",
      "    Adding kernel: im054\n",
      "    Adding kernel: im073\n",
      "    Adding kernel: im075\n",
      "    Adding kernel: im106\n",
      "The following kernels failed to be added to the model: \n",
      "{'passive_change'}\n",
      "\n",
      "The following dropouts failed to be added to the model: \n",
      "{'single-passive_change'}\n",
      "\n"
     ]
    },
    {
     "data": {
      "text/plain": [
       "<DesignMatrix.DesignMatrix at 0x7fc392a45790>"
      ]
     },
     "execution_count": 261,
     "metadata": {},
     "output_type": "execute_result"
    }
   ],
   "source": [
    "responses = response_list[0]\n",
    "design = DesignMatrix(response)\n",
    "dmtools.add_kernels(design, run_params, bod, response)"
   ]
  },
  {
   "cell_type": "code",
   "execution_count": 262,
   "metadata": {},
   "outputs": [],
   "source": [
    "X = design.get_X()\n",
    "assert X.shape[0] == response['response_arr'].shape[0]"
   ]
  }
 ],
 "metadata": {
  "kernelspec": {
   "display_name": "base",
   "language": "python",
   "name": "python3"
  },
  "language_info": {
   "codemirror_mode": {
    "name": "ipython",
    "version": 3
   },
   "file_extension": ".py",
   "mimetype": "text/x-python",
   "name": "python",
   "nbconvert_exporter": "python",
   "pygments_lexer": "ipython3",
   "version": "3.9.12"
  }
 },
 "nbformat": 4,
 "nbformat_minor": 2
}
